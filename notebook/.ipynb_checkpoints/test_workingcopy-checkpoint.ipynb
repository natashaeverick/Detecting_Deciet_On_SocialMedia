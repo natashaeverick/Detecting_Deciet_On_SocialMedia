{
 "cells": [
  {
   "cell_type": "code",
   "execution_count": 1,
   "id": "48185948",
   "metadata": {},
   "outputs": [],
   "source": [
    "import numpy as np\n",
    "import pandas as pd\n",
    "import nltk\n",
    "import re\n",
    "import pickle\n",
    "from IPython import display\n",
    "import matplotlib.pyplot as plt\n",
    "import seaborn as sns\n",
    "\n",
    "\n",
    "\n",
    "from sklearn.model_selection import train_test_split\n",
    "from sklearn.feature_extraction.text import TfidfVectorizer\n",
    "\n",
    "from sklearn.ensemble import RandomForestClassifier\n",
    "from sklearn.model_selection import GridSearchCV\n",
    "\n",
    "from sklearn.metrics import classification_report\n",
    "from sklearn.metrics import accuracy_score"
   ]
  },
  {
   "cell_type": "code",
   "execution_count": 2,
   "id": "ba95e94d",
   "metadata": {},
   "outputs": [],
   "source": [
    "test_tfidf_vectorizer = pickle.load(open(\"../models/tf_processor.pkl\", \"rb\"))\n",
    "\n",
    "rf_test_model = pickle.load(open(\"../models/rf_gs_model.pkl\", \"rb\"))\n",
    "\n",
    "test_grid_search = pickle.load(open(\"../models/grid_search_processor.pkl\", \"rb\"))\n"
   ]
  },
  {
   "cell_type": "code",
   "execution_count": null,
   "id": "213ab438",
   "metadata": {},
   "outputs": [],
   "source": [
    "test_tfidf_vectorizer"
   ]
  },
  {
   "cell_type": "code",
   "execution_count": 3,
   "id": "d8cdd2d5",
   "metadata": {},
   "outputs": [],
   "source": [
    "testing_data = pd.read_csv('../data/raw/test.csv')"
   ]
  },
  {
   "cell_type": "code",
   "execution_count": 4,
   "id": "62280c68",
   "metadata": {},
   "outputs": [],
   "source": [
    "X_testing = testing_data['Title_Text']\n",
    "y_testing = testing_data['Label']"
   ]
  },
  {
   "cell_type": "code",
   "execution_count": 5,
   "id": "1fd844f5",
   "metadata": {},
   "outputs": [],
   "source": [
    "X_test_tfidf = test_tfidf_vectorizer.transform(testing_data['Title_Text'])"
   ]
  },
  {
   "cell_type": "code",
   "execution_count": 6,
   "id": "c701216a",
   "metadata": {},
   "outputs": [],
   "source": [
    "best_parameters_test = test_grid_search.best_params_\n",
    "\n",
    "best_model_test = test_grid_search.best_estimator_\n",
    "\n",
    "test_preds_test = best_model_test.predict(X_test_tfidf)"
   ]
  },
  {
   "cell_type": "code",
   "execution_count": 7,
   "id": "9a2914f9",
   "metadata": {},
   "outputs": [
    {
     "data": {
      "text/plain": [
       "{'max_depth': None,\n",
       " 'min_samples_leaf': 1,\n",
       " 'min_samples_split': 5,\n",
       " 'n_estimators': 75}"
      ]
     },
     "execution_count": 7,
     "metadata": {},
     "output_type": "execute_result"
    }
   ],
   "source": [
    "best_parameters_test"
   ]
  },
  {
   "cell_type": "code",
   "execution_count": 8,
   "id": "7d22ad26",
   "metadata": {},
   "outputs": [
    {
     "data": {
      "text/html": [
       "<style>#sk-container-id-1 {color: black;background-color: white;}#sk-container-id-1 pre{padding: 0;}#sk-container-id-1 div.sk-toggleable {background-color: white;}#sk-container-id-1 label.sk-toggleable__label {cursor: pointer;display: block;width: 100%;margin-bottom: 0;padding: 0.3em;box-sizing: border-box;text-align: center;}#sk-container-id-1 label.sk-toggleable__label-arrow:before {content: \"▸\";float: left;margin-right: 0.25em;color: #696969;}#sk-container-id-1 label.sk-toggleable__label-arrow:hover:before {color: black;}#sk-container-id-1 div.sk-estimator:hover label.sk-toggleable__label-arrow:before {color: black;}#sk-container-id-1 div.sk-toggleable__content {max-height: 0;max-width: 0;overflow: hidden;text-align: left;background-color: #f0f8ff;}#sk-container-id-1 div.sk-toggleable__content pre {margin: 0.2em;color: black;border-radius: 0.25em;background-color: #f0f8ff;}#sk-container-id-1 input.sk-toggleable__control:checked~div.sk-toggleable__content {max-height: 200px;max-width: 100%;overflow: auto;}#sk-container-id-1 input.sk-toggleable__control:checked~label.sk-toggleable__label-arrow:before {content: \"▾\";}#sk-container-id-1 div.sk-estimator input.sk-toggleable__control:checked~label.sk-toggleable__label {background-color: #d4ebff;}#sk-container-id-1 div.sk-label input.sk-toggleable__control:checked~label.sk-toggleable__label {background-color: #d4ebff;}#sk-container-id-1 input.sk-hidden--visually {border: 0;clip: rect(1px 1px 1px 1px);clip: rect(1px, 1px, 1px, 1px);height: 1px;margin: -1px;overflow: hidden;padding: 0;position: absolute;width: 1px;}#sk-container-id-1 div.sk-estimator {font-family: monospace;background-color: #f0f8ff;border: 1px dotted black;border-radius: 0.25em;box-sizing: border-box;margin-bottom: 0.5em;}#sk-container-id-1 div.sk-estimator:hover {background-color: #d4ebff;}#sk-container-id-1 div.sk-parallel-item::after {content: \"\";width: 100%;border-bottom: 1px solid gray;flex-grow: 1;}#sk-container-id-1 div.sk-label:hover label.sk-toggleable__label {background-color: #d4ebff;}#sk-container-id-1 div.sk-serial::before {content: \"\";position: absolute;border-left: 1px solid gray;box-sizing: border-box;top: 0;bottom: 0;left: 50%;z-index: 0;}#sk-container-id-1 div.sk-serial {display: flex;flex-direction: column;align-items: center;background-color: white;padding-right: 0.2em;padding-left: 0.2em;position: relative;}#sk-container-id-1 div.sk-item {position: relative;z-index: 1;}#sk-container-id-1 div.sk-parallel {display: flex;align-items: stretch;justify-content: center;background-color: white;position: relative;}#sk-container-id-1 div.sk-item::before, #sk-container-id-1 div.sk-parallel-item::before {content: \"\";position: absolute;border-left: 1px solid gray;box-sizing: border-box;top: 0;bottom: 0;left: 50%;z-index: -1;}#sk-container-id-1 div.sk-parallel-item {display: flex;flex-direction: column;z-index: 1;position: relative;background-color: white;}#sk-container-id-1 div.sk-parallel-item:first-child::after {align-self: flex-end;width: 50%;}#sk-container-id-1 div.sk-parallel-item:last-child::after {align-self: flex-start;width: 50%;}#sk-container-id-1 div.sk-parallel-item:only-child::after {width: 0;}#sk-container-id-1 div.sk-dashed-wrapped {border: 1px dashed gray;margin: 0 0.4em 0.5em 0.4em;box-sizing: border-box;padding-bottom: 0.4em;background-color: white;}#sk-container-id-1 div.sk-label label {font-family: monospace;font-weight: bold;display: inline-block;line-height: 1.2em;}#sk-container-id-1 div.sk-label-container {text-align: center;}#sk-container-id-1 div.sk-container {/* jupyter's `normalize.less` sets `[hidden] { display: none; }` but bootstrap.min.css set `[hidden] { display: none !important; }` so we also need the `!important` here to be able to override the default hidden behavior on the sphinx rendered scikit-learn.org. See: https://github.com/scikit-learn/scikit-learn/issues/21755 */display: inline-block !important;position: relative;}#sk-container-id-1 div.sk-text-repr-fallback {display: none;}</style><div id=\"sk-container-id-1\" class=\"sk-top-container\"><div class=\"sk-text-repr-fallback\"><pre>RandomForestClassifier(min_samples_split=5, n_estimators=75)</pre><b>In a Jupyter environment, please rerun this cell to show the HTML representation or trust the notebook. <br />On GitHub, the HTML representation is unable to render, please try loading this page with nbviewer.org.</b></div><div class=\"sk-container\" hidden><div class=\"sk-item\"><div class=\"sk-estimator sk-toggleable\"><input class=\"sk-toggleable__control sk-hidden--visually\" id=\"sk-estimator-id-1\" type=\"checkbox\" checked><label for=\"sk-estimator-id-1\" class=\"sk-toggleable__label sk-toggleable__label-arrow\">RandomForestClassifier</label><div class=\"sk-toggleable__content\"><pre>RandomForestClassifier(min_samples_split=5, n_estimators=75)</pre></div></div></div></div></div>"
      ],
      "text/plain": [
       "RandomForestClassifier(min_samples_split=5, n_estimators=75)"
      ]
     },
     "execution_count": 8,
     "metadata": {},
     "output_type": "execute_result"
    }
   ],
   "source": [
    "best_model_test"
   ]
  },
  {
   "cell_type": "code",
   "execution_count": 9,
   "id": "a81819ed",
   "metadata": {},
   "outputs": [
    {
     "name": "stdout",
     "output_type": "stream",
     "text": [
      "              precision    recall  f1-score   support\n",
      "\n",
      "           0       0.72      0.50      0.59      1571\n",
      "           1       0.86      0.94      0.90      5068\n",
      "\n",
      "    accuracy                           0.84      6639\n",
      "   macro avg       0.79      0.72      0.75      6639\n",
      "weighted avg       0.83      0.84      0.83      6639\n",
      "\n"
     ]
    }
   ],
   "source": [
    "y_preds_test = best_model_test.predict(X_test_tfidf)\n",
    "\n",
    "print(classification_report(y_testing,y_preds_test,))"
   ]
  },
  {
   "cell_type": "code",
   "execution_count": null,
   "id": "64c36ed4",
   "metadata": {},
   "outputs": [],
   "source": [
    "report = classification_report(y_testing,y_preds_test,target_names=['Fake', 'Real'],output_dict=True)\n",
    "df = pd.DataFrame(report).transpose()\n",
    "\n",
    "df"
   ]
  },
  {
   "cell_type": "code",
   "execution_count": null,
   "id": "d7c92a48",
   "metadata": {},
   "outputs": [],
   "source": [
    "class_metrics = df.iloc[:-3, :-1]\n",
    "class_names = class_metrics.index\n",
    "metrics = ['precision', 'recall', 'f1-score']\n",
    "\n",
    "x = np.arange(len(class_names))"
   ]
  },
  {
   "cell_type": "code",
   "execution_count": null,
   "id": "9e173b46",
   "metadata": {},
   "outputs": [],
   "source": [
    "ax = plt.figure(figsize=(15, 10))\n",
    "for item, metric in enumerate(metrics):\n",
    "    plt.bar(x + (item +1) * 0.02, class_metrics[metric], width=0.20, label=metric)\n",
    "    for i, value in enumerate(class_metrics[metric]):\n",
    "        plt.annotate(f\"{value:.2f}\", (x[i] + (item + 1) * 0.20, value + 0.02), ha='center')\n",
    "    \n",
    "plt.title('Classification Metrics by Class')\n",
    "plt.xlabel('Classes', fontsize = 15)\n",
    "plt.ylabel('Score',fontsize = 15)\n",
    "plt.ylim(0, 1.1)\n",
    "plt.legend()\n",
    "plt.xticks(x, class_names, rotation=45)\n",
    "plt.tight_layout()\n",
    "plt.savefig('../static/classification_graph.png', dpi=300)\n",
    "plt.show()"
   ]
  },
  {
   "cell_type": "code",
   "execution_count": null,
   "id": "a26f8368",
   "metadata": {},
   "outputs": [],
   "source": [
    "df"
   ]
  },
  {
   "cell_type": "code",
   "execution_count": null,
   "id": "02597cb0",
   "metadata": {},
   "outputs": [],
   "source": [
    "data = df.iloc[:-1, :-3]\n",
    "data"
   ]
  },
  {
   "cell_type": "code",
   "execution_count": null,
   "id": "f600a4e4",
   "metadata": {},
   "outputs": [],
   "source": [
    "plt.figure(figsize=(10,6))\n",
    "sns.heatmap(data, annot=True, fmt=\".2f\")\n",
    "\n",
    "plt.show()"
   ]
  },
  {
   "cell_type": "code",
   "execution_count": null,
   "id": "a331aab5",
   "metadata": {},
   "outputs": [],
   "source": [
    "y_preds = pd.DataFrame(test_preds_test)"
   ]
  },
  {
   "cell_type": "code",
   "execution_count": null,
   "id": "fe76af58",
   "metadata": {},
   "outputs": [],
   "source": [
    "y_preds.to_excel(\"../results/prediction.xlsx\")"
   ]
  },
  {
   "cell_type": "code",
   "execution_count": null,
   "id": "3e01281e",
   "metadata": {},
   "outputs": [],
   "source": [
    "from sklearn.metrics import accuracy_score\n",
    "test_preds2 = best_model_test.predict(X_test_tfidf) "
   ]
  },
  {
   "cell_type": "code",
   "execution_count": null,
   "id": "fa58f909",
   "metadata": {},
   "outputs": [],
   "source": [
    "accuracy = accuracy_score(y_testing, test_preds2)\n",
    "\n",
    "print(f\"Accuracy: {accuracy:.2f}\")"
   ]
  },
  {
   "cell_type": "code",
   "execution_count": null,
   "id": "99f6faaf",
   "metadata": {},
   "outputs": [],
   "source": []
  },
  {
   "cell_type": "code",
   "execution_count": null,
   "id": "5864673c",
   "metadata": {},
   "outputs": [],
   "source": []
  },
  {
   "cell_type": "code",
   "execution_count": null,
   "id": "969d3559",
   "metadata": {},
   "outputs": [],
   "source": []
  },
  {
   "cell_type": "code",
   "execution_count": null,
   "id": "a3ac5e07",
   "metadata": {},
   "outputs": [],
   "source": []
  }
 ],
 "metadata": {
  "kernelspec": {
   "display_name": "Python 3 (ipykernel)",
   "language": "python",
   "name": "python3"
  },
  "language_info": {
   "codemirror_mode": {
    "name": "ipython",
    "version": 3
   },
   "file_extension": ".py",
   "mimetype": "text/x-python",
   "name": "python",
   "nbconvert_exporter": "python",
   "pygments_lexer": "ipython3",
   "version": "3.9.13"
  }
 },
 "nbformat": 4,
 "nbformat_minor": 5
}
