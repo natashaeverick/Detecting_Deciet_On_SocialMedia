{
 "cells": [
  {
   "cell_type": "code",
   "execution_count": 1,
   "id": "48185948",
   "metadata": {},
   "outputs": [],
   "source": [
    "import numpy as np\n",
    "import pandas as pd\n",
    "import nltk\n",
    "import re\n",
    "import pickle\n",
    "from IPython import display\n",
    "import matplotlib.pyplot as plt\n",
    "import seaborn as sns\n",
    "\n",
    "\n",
    "from sklearn.model_selection import train_test_split\n",
    "from sklearn.feature_extraction.text import TfidfVectorizer\n",
    "from sklearn.utils import class_weight\n",
    "from sklearn.ensemble import RandomForestClassifier\n",
    "from sklearn.model_selection import GridSearchCV\n",
    "from sklearn.svm import SVC\n",
    "from sklearn.preprocessing import StandardScaler\n",
    "from sklearn.pipeline import Pipeline\n",
    "\n",
    "\n",
    "from sklearn.metrics import classification_report\n",
    "from sklearn.metrics import accuracy_score"
   ]
  },
  {
   "cell_type": "code",
   "execution_count": 16,
   "id": "ba95e94d",
   "metadata": {},
   "outputs": [],
   "source": [
    "test_tfidf_vectorizer = pickle.load(open(\"../models/tf_processor.pkl\", \"rb\"))\n",
    "\n",
    "# test_pipeline = pickle.load(open(\"../models/pipeline.pkl\", \"rb\"))\n",
    "\n",
    "test_svm_model = pickle.load(open(\"../models/svm_best_model.pkl\", \"rb\"))\n",
    "\n",
    "# test_rf_search = pickle.load(open(\"../models/rf_best_model.pkl\", \"rb\"))\n"
   ]
  },
  {
   "cell_type": "code",
   "execution_count": 6,
   "id": "d8cdd2d5",
   "metadata": {},
   "outputs": [],
   "source": [
    "testing_data = pd.read_csv('../data/raw/test.csv')"
   ]
  },
  {
   "cell_type": "code",
   "execution_count": 10,
   "id": "d43b8d36",
   "metadata": {},
   "outputs": [],
   "source": [
    "from sklearn.model_selection import KFold\n",
    "\n",
    "kf = KFold(n_splits = 5, shuffle = True, random_state = 42)\n",
    "\n",
    "results = []\n",
    "\n",
    "for fold, (test_index, val_index) in enumerate(kf.split(testing_data)):\n",
    "    test_fold = testing_data.iloc[test_index]\n",
    "    test_val= testing_data.iloc[val_index]\n",
    "    \n",
    "    \n",
    "\n",
    "    X_test = test_fold.drop('Label',axis=1)\n",
    "    y_test = test_fold['Label']\n",
    "    X_val_test = test_val.drop('Label', axis=1)\n",
    "    y_val_test = test_val['Label']"
   ]
  },
  {
   "cell_type": "code",
   "execution_count": 13,
   "id": "a65f68b5",
   "metadata": {},
   "outputs": [],
   "source": [
    "X_testing_tfidf = test_tfidf_vectorizer.transform(X_test['Title_Text'])"
   ]
  },
  {
   "cell_type": "code",
   "execution_count": 17,
   "id": "84615e4e",
   "metadata": {},
   "outputs": [
    {
     "ename": "AttributeError",
     "evalue": "'SVC' object has no attribute 'best_params_'",
     "output_type": "error",
     "traceback": [
      "\u001b[1;31m---------------------------------------------------------------------------\u001b[0m",
      "\u001b[1;31mAttributeError\u001b[0m                            Traceback (most recent call last)",
      "Cell \u001b[1;32mIn[17], line 1\u001b[0m\n\u001b[1;32m----> 1\u001b[0m best_parameters\u001b[38;5;241m=\u001b[39m \u001b[43mtest_svm_model\u001b[49m\u001b[38;5;241;43m.\u001b[39;49m\u001b[43mbest_params_\u001b[49m\n\u001b[0;32m      3\u001b[0m best_model \u001b[38;5;241m=\u001b[39m test_svm_model\u001b[38;5;241m.\u001b[39mbest_estimator_\n\u001b[0;32m      5\u001b[0m test_preds \u001b[38;5;241m=\u001b[39m test_svm_model\u001b[38;5;241m.\u001b[39mpredict(X_testing_tfidf)\n",
      "\u001b[1;31mAttributeError\u001b[0m: 'SVC' object has no attribute 'best_params_'"
     ]
    }
   ],
   "source": [
    "best_parameters= test_svm_model.best_params_\n",
    "\n",
    "best_model = test_svm_model.best_estimator_\n",
    "\n",
    "test_preds = test_svm_model.predict(X_testing_tfidf)"
   ]
  },
  {
   "cell_type": "code",
   "execution_count": null,
   "id": "1b370c15",
   "metadata": {},
   "outputs": [],
   "source": [
    "def model_ensemble(X):\n",
    "    svm_preds= test_svm_model.predict(X)\n",
    "    rf_preds= test_rf_search.predict(X)\n",
    "    ensemble_preds= [1 if (svm_pred + rf_pred) >= 1 \n",
    "                     else 0 for svm_pred, rf_pred in zip(svm_preds, rf_preds)]\n",
    "    return ensemble_preds"
   ]
  },
  {
   "cell_type": "code",
   "execution_count": null,
   "id": "f7d49318",
   "metadata": {},
   "outputs": [],
   "source": [
    "ensemble_test_pred = model_ensemble(X_testing_tfidf)\n",
    "ensemble_classification= classification_report(y_testing,ensemble_test_pred)"
   ]
  },
  {
   "cell_type": "code",
   "execution_count": null,
   "id": "bc1b2f26",
   "metadata": {},
   "outputs": [],
   "source": [
    "print(classification_report(y_testing,ensemble_test_pred))"
   ]
  },
  {
   "cell_type": "code",
   "execution_count": null,
   "id": "b390daaf",
   "metadata": {},
   "outputs": [],
   "source": []
  },
  {
   "cell_type": "code",
   "execution_count": null,
   "id": "c277c920",
   "metadata": {},
   "outputs": [],
   "source": []
  },
  {
   "cell_type": "code",
   "execution_count": null,
   "id": "64c36ed4",
   "metadata": {},
   "outputs": [],
   "source": [
    "report = classification_report(y_testing,ensemble_test_pred,target_names=['Fake', 'Real'],output_dict=True)\n",
    "df = pd.DataFrame(report).transpose()\n",
    "\n",
    "df"
   ]
  },
  {
   "cell_type": "code",
   "execution_count": null,
   "id": "d7c92a48",
   "metadata": {},
   "outputs": [],
   "source": [
    "class_metrics = df.iloc[:-3, :-1]\n",
    "class_names = class_metrics.index\n",
    "metrics = ['precision', 'recall', 'f1-score']\n",
    "\n",
    "x = np.arange(len(class_names))"
   ]
  },
  {
   "cell_type": "code",
   "execution_count": null,
   "id": "9e173b46",
   "metadata": {},
   "outputs": [],
   "source": [
    "ax = plt.figure(figsize=(15, 10))\n",
    "for item, metric in enumerate(metrics):\n",
    "    plt.bar(x + (item +1) * 0.2, class_metrics[metric], width=0.20, label=metric)\n",
    "    for i, value in enumerate(class_metrics[metric]):\n",
    "        plt.annotate(f\"{value:.2f}\", (x[i] + (item + 1) * 0.20, value + 0.02), ha='center')\n",
    "    \n",
    "plt.title('Classification Metrics by Class')\n",
    "plt.xlabel('Classes', fontsize = 15)\n",
    "plt.ylabel('Score',fontsize = 15)\n",
    "plt.ylim(0, 1.1)\n",
    "plt.legend()\n",
    "plt.xticks(x, class_names, rotation=45)\n",
    "plt.tight_layout()\n",
    "plt.savefig('../static/classification_graph.png', dpi=300)\n",
    "plt.show()"
   ]
  },
  {
   "cell_type": "code",
   "execution_count": null,
   "id": "b105280a",
   "metadata": {},
   "outputs": [],
   "source": []
  },
  {
   "cell_type": "code",
   "execution_count": null,
   "id": "8720e080",
   "metadata": {},
   "outputs": [],
   "source": []
  },
  {
   "cell_type": "code",
   "execution_count": null,
   "id": "6de712b2",
   "metadata": {},
   "outputs": [],
   "source": []
  },
  {
   "cell_type": "code",
   "execution_count": null,
   "id": "9e8ececb",
   "metadata": {},
   "outputs": [],
   "source": []
  },
  {
   "cell_type": "code",
   "execution_count": null,
   "id": "a26f8368",
   "metadata": {},
   "outputs": [],
   "source": [
    "df"
   ]
  },
  {
   "cell_type": "code",
   "execution_count": null,
   "id": "02597cb0",
   "metadata": {},
   "outputs": [],
   "source": [
    "data = df.iloc[:-1, :-3]\n",
    "data"
   ]
  },
  {
   "cell_type": "code",
   "execution_count": null,
   "id": "f600a4e4",
   "metadata": {},
   "outputs": [],
   "source": [
    "plt.figure(figsize=(10,6))\n",
    "sns.heatmap(data, annot=True, fmt=\".2f\")\n",
    "\n",
    "plt.show()"
   ]
  },
  {
   "cell_type": "code",
   "execution_count": null,
   "id": "a331aab5",
   "metadata": {},
   "outputs": [],
   "source": [
    "y_preds = pd.DataFrame(test_preds_test)"
   ]
  },
  {
   "cell_type": "code",
   "execution_count": null,
   "id": "fe76af58",
   "metadata": {},
   "outputs": [],
   "source": [
    "y_preds.to_excel(\"../results/prediction.xlsx\")"
   ]
  },
  {
   "cell_type": "code",
   "execution_count": null,
   "id": "3e01281e",
   "metadata": {},
   "outputs": [],
   "source": [
    "from sklearn.metrics import accuracy_score\n",
    "test_preds2 = best_model_test.predict(X_test_tfidf) "
   ]
  },
  {
   "cell_type": "code",
   "execution_count": null,
   "id": "fa58f909",
   "metadata": {},
   "outputs": [],
   "source": [
    "accuracy = accuracy_score(y_testing, test_preds2)\n",
    "\n",
    "print(f\"Accuracy: {accuracy:.2f}\")"
   ]
  }
 ],
 "metadata": {
  "kernelspec": {
   "display_name": "Python 3 (ipykernel)",
   "language": "python",
   "name": "python3"
  },
  "language_info": {
   "codemirror_mode": {
    "name": "ipython",
    "version": 3
   },
   "file_extension": ".py",
   "mimetype": "text/x-python",
   "name": "python",
   "nbconvert_exporter": "python",
   "pygments_lexer": "ipython3",
   "version": "3.9.13"
  }
 },
 "nbformat": 4,
 "nbformat_minor": 5
}
