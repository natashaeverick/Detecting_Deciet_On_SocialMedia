{
 "cells": [
  {
   "cell_type": "markdown",
   "id": "85795f55",
   "metadata": {},
   "source": [
    "# Detecting Deceit \n",
    "\n",
    "## Training the model to predict when there is fake news on social media"
   ]
  },
  {
   "cell_type": "markdown",
   "id": "37e5cf57",
   "metadata": {},
   "source": [
    "It's hard to know if someone is trying to deceive you, especially on social media. There are millions of users across all social media platforms sharing information every second of the day. Each one of those users has the ability to influence decisions or opinions. This could be for something as small as your dinner plans. or alternatively, they could share information that could result in a hostile takeover of a multi-billion dollar company. Information is so imparative throughout the decision making process that if you act upon inaccurate data it could have implications that are felt worldwide.\n",
    "\n",
    "It is almost impossible to know who is providing you with important facts or if it's fiction. We have all seen the news that when reading the first few words you believe it must be click bait, or there is no way that information could be true. Through social media we get our information from other users that you follow and are given recommendations of new users or pages we should follow consistently. This is why I have chosen to create a model that will detect if the posts being provided to the millions of users are real or fake."
   ]
  },
  {
   "cell_type": "code",
   "execution_count": 1,
   "id": "80a59dfa",
   "metadata": {},
   "outputs": [
    {
     "name": "stderr",
     "output_type": "stream",
     "text": [
      "[nltk_data] Downloading package stopwords to C:\\Users\\User\n",
      "[nltk_data]     1\\AppData\\Roaming\\nltk_data...\n",
      "[nltk_data]   Package stopwords is already up-to-date!\n"
     ]
    }
   ],
   "source": [
    "import numpy as np\n",
    "import pandas as pd\n",
    "import string \n",
    "import nltk\n",
    "from nltk.corpus import stopwords\n",
    "from nltk.stem import WordNetLemmatizer\n",
    "nltk.download('stopwords')\n",
    "\n",
    "import re\n",
    "import pickle\n",
    "import matplotlib.pyplot as plt\n",
    "import seaborn as sns\n",
    "\n",
    "from sklearn.model_selection import train_test_split\n",
    "from sklearn.feature_extraction.text import TfidfVectorizer\n",
    "from sklearn.feature_extraction.text import CountVectorizer\n",
    "from sklearn.ensemble import GradientBoostingClassifier\n",
    "from sklearn.svm import SVC\n",
    "from sklearn.ensemble import RandomForestClassifier\n",
    "from sklearn.model_selection import GridSearchCV\n",
    "from sklearn.model_selection import KFold\n",
    "from sklearn.metrics import confusion_matrix\n",
    "from sklearn.metrics import classification_report\n",
    "from sklearn.metrics import accuracy_score"
   ]
  },
  {
   "cell_type": "markdown",
   "id": "04ffc789",
   "metadata": {},
   "source": [
    "Reading in the raw data and converting to csv so I can read the encoded data. "
   ]
  },
  {
   "cell_type": "code",
   "execution_count": 2,
   "id": "7500ae4a",
   "metadata": {},
   "outputs": [
    {
     "data": {
      "text/html": [
       "<div>\n",
       "<style scoped>\n",
       "    .dataframe tbody tr th:only-of-type {\n",
       "        vertical-align: middle;\n",
       "    }\n",
       "\n",
       "    .dataframe tbody tr th {\n",
       "        vertical-align: top;\n",
       "    }\n",
       "\n",
       "    .dataframe thead th {\n",
       "        text-align: right;\n",
       "    }\n",
       "</style>\n",
       "<table border=\"1\" class=\"dataframe\">\n",
       "  <thead>\n",
       "    <tr style=\"text-align: right;\">\n",
       "      <th></th>\n",
       "      <th>Title</th>\n",
       "      <th>Label</th>\n",
       "    </tr>\n",
       "  </thead>\n",
       "  <tbody>\n",
       "    <tr>\n",
       "      <th>0</th>\n",
       "      <td>Teen Mom Star Jenelle Evans' Wedding Dress Is ...</td>\n",
       "      <td>Real</td>\n",
       "    </tr>\n",
       "    <tr>\n",
       "      <th>1</th>\n",
       "      <td>Kylie Jenner refusing to discuss Tyga on Life ...</td>\n",
       "      <td>Real</td>\n",
       "    </tr>\n",
       "    <tr>\n",
       "      <th>2</th>\n",
       "      <td>Quinn Perkins</td>\n",
       "      <td>Real</td>\n",
       "    </tr>\n",
       "    <tr>\n",
       "      <th>3</th>\n",
       "      <td>I Tried Kim Kardashian's Butt Workout &amp; Am For...</td>\n",
       "      <td>Real</td>\n",
       "    </tr>\n",
       "    <tr>\n",
       "      <th>4</th>\n",
       "      <td>Celine Dion donates concert proceeds to Vegas ...</td>\n",
       "      <td>Real</td>\n",
       "    </tr>\n",
       "    <tr>\n",
       "      <th>...</th>\n",
       "      <td>...</td>\n",
       "      <td>...</td>\n",
       "    </tr>\n",
       "    <tr>\n",
       "      <th>22135</th>\n",
       "      <td>September 11: Celebrities Remember 9/11 (TWEETS)</td>\n",
       "      <td>Fake</td>\n",
       "    </tr>\n",
       "    <tr>\n",
       "      <th>22136</th>\n",
       "      <td>NASCAR owners threaten to fire drivers who pro...</td>\n",
       "      <td>Fake</td>\n",
       "    </tr>\n",
       "    <tr>\n",
       "      <th>22137</th>\n",
       "      <td>The 7 signs that David Beckham is definitely h...</td>\n",
       "      <td>Fake</td>\n",
       "    </tr>\n",
       "    <tr>\n",
       "      <th>22138</th>\n",
       "      <td>Ryan Gosling and Eva Mendes Did Not Get Marrie...</td>\n",
       "      <td>Fake</td>\n",
       "    </tr>\n",
       "    <tr>\n",
       "      <th>22139</th>\n",
       "      <td>Jamie Foxx Spends the Day With Katie Holmes an...</td>\n",
       "      <td>Fake</td>\n",
       "    </tr>\n",
       "  </tbody>\n",
       "</table>\n",
       "<p>22140 rows × 2 columns</p>\n",
       "</div>"
      ],
      "text/plain": [
       "                                                   Title Label\n",
       "0      Teen Mom Star Jenelle Evans' Wedding Dress Is ...  Real\n",
       "1      Kylie Jenner refusing to discuss Tyga on Life ...  Real\n",
       "2                                          Quinn Perkins  Real\n",
       "3      I Tried Kim Kardashian's Butt Workout & Am For...  Real\n",
       "4      Celine Dion donates concert proceeds to Vegas ...  Real\n",
       "...                                                  ...   ...\n",
       "22135   September 11: Celebrities Remember 9/11 (TWEETS)  Fake\n",
       "22136  NASCAR owners threaten to fire drivers who pro...  Fake\n",
       "22137  The 7 signs that David Beckham is definitely h...  Fake\n",
       "22138  Ryan Gosling and Eva Mendes Did Not Get Marrie...  Fake\n",
       "22139  Jamie Foxx Spends the Day With Katie Holmes an...  Fake\n",
       "\n",
       "[22140 rows x 2 columns]"
      ]
     },
     "execution_count": 2,
     "metadata": {},
     "output_type": "execute_result"
    }
   ],
   "source": [
    "news_df = pd.read_excel('../data/raw/News_Detection_data.xlsx')\n",
    "news_df"
   ]
  },
  {
   "cell_type": "markdown",
   "id": "85a0f910",
   "metadata": {},
   "source": [
    "Removing any records that are blank from the dataset and reset the index for further preprocessing."
   ]
  },
  {
   "cell_type": "code",
   "execution_count": 3,
   "id": "0a140247",
   "metadata": {},
   "outputs": [],
   "source": [
    "news_df.dropna(inplace = True)\n",
    "news_df.reset_index(drop=True, inplace=True)"
   ]
  },
  {
   "cell_type": "markdown",
   "id": "326eaffa",
   "metadata": {},
   "source": [
    "Removing numbers, brackets and invalid characters and replacing with a period that will be removed entirely with the next step."
   ]
  },
  {
   "cell_type": "code",
   "execution_count": 4,
   "id": "d9b78424",
   "metadata": {},
   "outputs": [],
   "source": [
    "news_df['Title'] = news_df['Title'].str.replace('\\d+', \".\")\n",
    "news_df['Title'] = news_df['Title'].str.replace(r'\\(|\\)',\".\")\n",
    "news_df['Title'] = news_df['Title'].str.replace(\"â€™\", \".\")\n",
    "news_df['Title'] = news_df['Title'].str.replace(\"Ã¢\", \".\")\n",
    "news_df[\"Title\"] = news_df[\"Title\"].str.replace('â€˜',\".\")\n",
    "news_df[\"Title\"] = news_df[\"Title\"].str.replace('â€',\".\")\n",
    "news_df[\"Title\"] = news_df[\"Title\"].str.replace('â€œ',\".\")\n",
    "news_df[\"Title\"] = news_df[\"Title\"].str.replace('â€¢',\".\")\n",
    "news_df[\"Title\"] = news_df[\"Title\"].str.replace('â€“',\".\")\n",
    "news_df[\"Title\"] = news_df[\"Title\"].str.replace('Ã',\".\")\n",
    "news_df[\"Title\"] = news_df[\"Title\"].str.replace('©',\".\")"
   ]
  },
  {
   "cell_type": "markdown",
   "id": "01adb17c",
   "metadata": {},
   "source": [
    "Function to be used to remove punctation from the tweets then applying the function to the text"
   ]
  },
  {
   "cell_type": "code",
   "execution_count": 5,
   "id": "861d9632",
   "metadata": {},
   "outputs": [],
   "source": [
    "def remove_punctuation(text):\n",
    "    punctuationfree=\"\".join([i for i in text if i not in string.punctuation])\n",
    "    return punctuationfree\n",
    "\n",
    "news_df['Title']= news_df['Title'].apply(lambda x:remove_punctuation(x))"
   ]
  },
  {
   "cell_type": "markdown",
   "id": "7c13f801",
   "metadata": {},
   "source": [
    "Using a function to tokenize the text then applying the function to the data and creating a new series in the dataframe"
   ]
  },
  {
   "cell_type": "code",
   "execution_count": 6,
   "id": "a87bd571",
   "metadata": {},
   "outputs": [],
   "source": [
    "def tokenize_words(text):\n",
    "    words = re.split(r'\\W+',text)\n",
    "    return words\n",
    "\n",
    "news_df['Title_Tokenized']= news_df['Title'].apply(lambda x: tokenize_words(x))"
   ]
  },
  {
   "cell_type": "markdown",
   "id": "841ed1e1",
   "metadata": {},
   "source": [
    "Lowering the case of the characters for the purposes of removing the stopwords due to case sensitivity. "
   ]
  },
  {
   "cell_type": "code",
   "execution_count": 7,
   "id": "4d8f2d4f",
   "metadata": {},
   "outputs": [],
   "source": [
    "for i in range(len(news_df['Title_Tokenized'])):\n",
    "    news_df['Title_Tokenized'][i] = [token.lower() for token in news_df['Title_Tokenized'][i]]"
   ]
  },
  {
   "cell_type": "markdown",
   "id": "ad21ddde",
   "metadata": {},
   "source": [
    "Removal of Stop Words and completing text lemmatization"
   ]
  },
  {
   "cell_type": "code",
   "execution_count": 8,
   "id": "2deb677a",
   "metadata": {
    "scrolled": true
   },
   "outputs": [],
   "source": [
    "stop_words = set(stopwords.words('english')) \n",
    "lemma_word_list = []\n",
    "wordnet_lemmatizer = WordNetLemmatizer()\n",
    "\n",
    "for tokenized_data in news_df['Title_Tokenized']:\n",
    "    filtered_data = [x for x in tokenized_data if x.lower() not in stop_words]\n",
    "    \n",
    "    lemma_words = []\n",
    "\n",
    "    for w in filtered_data:\n",
    "        word1 = wordnet_lemmatizer.lemmatize(w, pos = \"n\")\n",
    "        word2 = wordnet_lemmatizer.lemmatize(word1, pos = \"v\")\n",
    "        word3 = wordnet_lemmatizer.lemmatize(word2, pos = (\"a\"))\n",
    "        lemma_words.append(word3)\n",
    "    lemma_word_list.append(lemma_words)\n"
   ]
  },
  {
   "cell_type": "code",
   "execution_count": 9,
   "id": "47f23cf7",
   "metadata": {},
   "outputs": [],
   "source": [
    "news_df[\"Title_Text\"] = lemma_word_list"
   ]
  },
  {
   "cell_type": "markdown",
   "id": "2370c843",
   "metadata": {},
   "source": [
    "Removing the columns that will not be part of the model"
   ]
  },
  {
   "cell_type": "code",
   "execution_count": 10,
   "id": "ad8d15fd",
   "metadata": {},
   "outputs": [],
   "source": [
    "news_df = news_df.drop(['Title_Tokenized', 'Title'], axis = 1)"
   ]
  },
  {
   "cell_type": "markdown",
   "id": "16912568",
   "metadata": {},
   "source": [
    "OHE (one hot encoding) for the labelling if the tweet from GossipCop is real or fake news. 1 will identify the news that is real and 0 will identify the fake news"
   ]
  },
  {
   "cell_type": "code",
   "execution_count": 11,
   "id": "4d4cfdbd",
   "metadata": {},
   "outputs": [],
   "source": [
    "news_df['Label'] = pd.get_dummies(news_df['Label'], drop_first=True)"
   ]
  },
  {
   "cell_type": "markdown",
   "id": "5ff23fcd",
   "metadata": {},
   "source": [
    "Creating a copy of the dataframe that contains a list of the words, then renaming it for the training and testing of the model. Also, saving a copy of the dataframe that will be used. "
   ]
  },
  {
   "cell_type": "code",
   "execution_count": 12,
   "id": "001173b0",
   "metadata": {},
   "outputs": [],
   "source": [
    "Processed_News_Data = news_df"
   ]
  },
  {
   "cell_type": "code",
   "execution_count": 13,
   "id": "b50cb3d4",
   "metadata": {},
   "outputs": [
    {
     "data": {
      "text/html": [
       "<div>\n",
       "<style scoped>\n",
       "    .dataframe tbody tr th:only-of-type {\n",
       "        vertical-align: middle;\n",
       "    }\n",
       "\n",
       "    .dataframe tbody tr th {\n",
       "        vertical-align: top;\n",
       "    }\n",
       "\n",
       "    .dataframe thead th {\n",
       "        text-align: right;\n",
       "    }\n",
       "</style>\n",
       "<table border=\"1\" class=\"dataframe\">\n",
       "  <thead>\n",
       "    <tr style=\"text-align: right;\">\n",
       "      <th></th>\n",
       "      <th>Label</th>\n",
       "      <th>Title_Text</th>\n",
       "    </tr>\n",
       "  </thead>\n",
       "  <tbody>\n",
       "    <tr>\n",
       "      <th>0</th>\n",
       "      <td>1</td>\n",
       "      <td>[teen, mom, star, jenelle, evans, wed, dress, ...</td>\n",
       "    </tr>\n",
       "    <tr>\n",
       "      <th>1</th>\n",
       "      <td>1</td>\n",
       "      <td>[kylie, jenner, refuse, discus, tyga, life, ky...</td>\n",
       "    </tr>\n",
       "    <tr>\n",
       "      <th>2</th>\n",
       "      <td>1</td>\n",
       "      <td>[quinn, perkins]</td>\n",
       "    </tr>\n",
       "    <tr>\n",
       "      <th>3</th>\n",
       "      <td>1</td>\n",
       "      <td>[try, kim, kardashians, butt, workout, forever...</td>\n",
       "    </tr>\n",
       "    <tr>\n",
       "      <th>4</th>\n",
       "      <td>1</td>\n",
       "      <td>[celine, dion, donate, concert, proceed, vega,...</td>\n",
       "    </tr>\n",
       "    <tr>\n",
       "      <th>...</th>\n",
       "      <td>...</td>\n",
       "      <td>...</td>\n",
       "    </tr>\n",
       "    <tr>\n",
       "      <th>22123</th>\n",
       "      <td>0</td>\n",
       "      <td>[september, celebrity, remember, tweet]</td>\n",
       "    </tr>\n",
       "    <tr>\n",
       "      <th>22124</th>\n",
       "      <td>0</td>\n",
       "      <td>[nascar, owner, threaten, fire, driver, protest]</td>\n",
       "    </tr>\n",
       "    <tr>\n",
       "      <th>22125</th>\n",
       "      <td>0</td>\n",
       "      <td>[sign, david, beckham, definitely, midlife, cr...</td>\n",
       "    </tr>\n",
       "    <tr>\n",
       "      <th>22126</th>\n",
       "      <td>0</td>\n",
       "      <td>[ryan, gosling, eva, mend, get, marry, update]</td>\n",
       "    </tr>\n",
       "    <tr>\n",
       "      <th>22127</th>\n",
       "      <td>0</td>\n",
       "      <td>[jamie, foxx, spend, day, katie, holmes, suri,...</td>\n",
       "    </tr>\n",
       "  </tbody>\n",
       "</table>\n",
       "<p>22128 rows × 2 columns</p>\n",
       "</div>"
      ],
      "text/plain": [
       "       Label                                         Title_Text\n",
       "0          1  [teen, mom, star, jenelle, evans, wed, dress, ...\n",
       "1          1  [kylie, jenner, refuse, discus, tyga, life, ky...\n",
       "2          1                                   [quinn, perkins]\n",
       "3          1  [try, kim, kardashians, butt, workout, forever...\n",
       "4          1  [celine, dion, donate, concert, proceed, vega,...\n",
       "...      ...                                                ...\n",
       "22123      0            [september, celebrity, remember, tweet]\n",
       "22124      0   [nascar, owner, threaten, fire, driver, protest]\n",
       "22125      0  [sign, david, beckham, definitely, midlife, cr...\n",
       "22126      0     [ryan, gosling, eva, mend, get, marry, update]\n",
       "22127      0  [jamie, foxx, spend, day, katie, holmes, suri,...\n",
       "\n",
       "[22128 rows x 2 columns]"
      ]
     },
     "execution_count": 13,
     "metadata": {},
     "output_type": "execute_result"
    }
   ],
   "source": [
    "Processed_News_Data"
   ]
  },
  {
   "cell_type": "code",
   "execution_count": 14,
   "id": "dddc469a",
   "metadata": {},
   "outputs": [],
   "source": [
    "Processed_News_Data.to_excel(\"../data/processed/Processed_News_Data.xlsx\", index=False)"
   ]
  },
  {
   "cell_type": "markdown",
   "id": "ff305577",
   "metadata": {},
   "source": [
    "# Separating the data for training and testing\n",
    "\n",
    "Splitting the data for training with 70% of the data, and testing will be completed with 30%. Saving the separated training and testing data as their own datasets. "
   ]
  },
  {
   "cell_type": "code",
   "execution_count": 15,
   "id": "87a36218",
   "metadata": {},
   "outputs": [],
   "source": [
    "train_df, test_df = train_test_split(Processed_News_Data, test_size=0.3, random_state=101)\n",
    "\n",
    "train_df.to_csv('../data/raw/train.csv', index=False)\n",
    "test_df.to_csv('../data/raw/test.csv', index=False)"
   ]
  },
  {
   "cell_type": "markdown",
   "id": "f9c0fcb4",
   "metadata": {},
   "source": [
    "Brining the training data into the workbook for the purposes of training the model."
   ]
  },
  {
   "cell_type": "code",
   "execution_count": 16,
   "id": "e0de6303",
   "metadata": {},
   "outputs": [
    {
     "data": {
      "text/html": [
       "<div>\n",
       "<style scoped>\n",
       "    .dataframe tbody tr th:only-of-type {\n",
       "        vertical-align: middle;\n",
       "    }\n",
       "\n",
       "    .dataframe tbody tr th {\n",
       "        vertical-align: top;\n",
       "    }\n",
       "\n",
       "    .dataframe thead th {\n",
       "        text-align: right;\n",
       "    }\n",
       "</style>\n",
       "<table border=\"1\" class=\"dataframe\">\n",
       "  <thead>\n",
       "    <tr style=\"text-align: right;\">\n",
       "      <th></th>\n",
       "      <th>Label</th>\n",
       "      <th>Title_Text</th>\n",
       "    </tr>\n",
       "  </thead>\n",
       "  <tbody>\n",
       "    <tr>\n",
       "      <th>0</th>\n",
       "      <td>1</td>\n",
       "      <td>['', 'summer', 'wardrobe', 'essential', 'style...</td>\n",
       "    </tr>\n",
       "    <tr>\n",
       "      <th>1</th>\n",
       "      <td>0</td>\n",
       "      <td>['wing', 'fury', 'vietnam', 'gulf', 'war', 'as...</td>\n",
       "    </tr>\n",
       "    <tr>\n",
       "      <th>2</th>\n",
       "      <td>1</td>\n",
       "      <td>['amanda', 'rollins']</td>\n",
       "    </tr>\n",
       "    <tr>\n",
       "      <th>3</th>\n",
       "      <td>1</td>\n",
       "      <td>['johnny', 'depp', 'exbiz', 'manager', 'settle...</td>\n",
       "    </tr>\n",
       "    <tr>\n",
       "      <th>4</th>\n",
       "      <td>1</td>\n",
       "      <td>['mighty', 'duck', 'tv', 'series', 'reportedly...</td>\n",
       "    </tr>\n",
       "    <tr>\n",
       "      <th>...</th>\n",
       "      <td>...</td>\n",
       "      <td>...</td>\n",
       "    </tr>\n",
       "    <tr>\n",
       "      <th>15484</th>\n",
       "      <td>1</td>\n",
       "      <td>['josephine', 'skrivers', 'morning', 'routine'...</td>\n",
       "    </tr>\n",
       "    <tr>\n",
       "      <th>15485</th>\n",
       "      <td>1</td>\n",
       "      <td>['bindi', 'irwin', 'share', 'emotional', 'vide...</td>\n",
       "    </tr>\n",
       "    <tr>\n",
       "      <th>15486</th>\n",
       "      <td>0</td>\n",
       "      <td>['keanu', 'reef', 'bitcoin', 'destroy', 'new',...</td>\n",
       "    </tr>\n",
       "    <tr>\n",
       "      <th>15487</th>\n",
       "      <td>0</td>\n",
       "      <td>['duchess', 'style', 'kate', 'middleton', 'meg...</td>\n",
       "    </tr>\n",
       "    <tr>\n",
       "      <th>15488</th>\n",
       "      <td>1</td>\n",
       "      <td>['sweet', 'peck', 'miniature', 'pony', 'revisi...</td>\n",
       "    </tr>\n",
       "  </tbody>\n",
       "</table>\n",
       "<p>15489 rows × 2 columns</p>\n",
       "</div>"
      ],
      "text/plain": [
       "       Label                                         Title_Text\n",
       "0          1  ['', 'summer', 'wardrobe', 'essential', 'style...\n",
       "1          0  ['wing', 'fury', 'vietnam', 'gulf', 'war', 'as...\n",
       "2          1                              ['amanda', 'rollins']\n",
       "3          1  ['johnny', 'depp', 'exbiz', 'manager', 'settle...\n",
       "4          1  ['mighty', 'duck', 'tv', 'series', 'reportedly...\n",
       "...      ...                                                ...\n",
       "15484      1  ['josephine', 'skrivers', 'morning', 'routine'...\n",
       "15485      1  ['bindi', 'irwin', 'share', 'emotional', 'vide...\n",
       "15486      0  ['keanu', 'reef', 'bitcoin', 'destroy', 'new',...\n",
       "15487      0  ['duchess', 'style', 'kate', 'middleton', 'meg...\n",
       "15488      1  ['sweet', 'peck', 'miniature', 'pony', 'revisi...\n",
       "\n",
       "[15489 rows x 2 columns]"
      ]
     },
     "execution_count": 16,
     "metadata": {},
     "output_type": "execute_result"
    }
   ],
   "source": [
    "training_data = pd.read_csv('../data/raw/train.csv')\n",
    "training_data"
   ]
  },
  {
   "cell_type": "code",
   "execution_count": 17,
   "id": "b1bdd086",
   "metadata": {},
   "outputs": [],
   "source": [
    "y_train = training_data['Label']"
   ]
  },
  {
   "cell_type": "markdown",
   "id": "49dc37ae",
   "metadata": {},
   "source": [
    "# Tfidf Vectorizer Initialization"
   ]
  },
  {
   "cell_type": "code",
   "execution_count": 18,
   "id": "b50e5509",
   "metadata": {},
   "outputs": [],
   "source": [
    "tfidf_vectorizer = TfidfVectorizer()\n",
    "X_train_tfidf = tfidf_vectorizer.fit_transform(training_data['Title_Text'])"
   ]
  },
  {
   "cell_type": "code",
   "execution_count": 19,
   "id": "d0fd8190",
   "metadata": {},
   "outputs": [],
   "source": [
    "filename = \"../models/tf_processor.pkl\"\n",
    "with open(filename, 'wb') as vectorizer_file:\n",
    "    pickle.dump(tfidf_vectorizer, vectorizer_file)"
   ]
  },
  {
   "cell_type": "markdown",
   "id": "5ef4ce79",
   "metadata": {},
   "source": [
    "# Count Vectorizer Initialization"
   ]
  },
  {
   "cell_type": "code",
   "execution_count": 20,
   "id": "479ad6e8",
   "metadata": {},
   "outputs": [],
   "source": [
    "vectorizer = CountVectorizer()\n",
    "X_train_count = vectorizer.fit_transform(training_data['Title_Text'])"
   ]
  },
  {
   "cell_type": "code",
   "execution_count": 21,
   "id": "eabaffcb",
   "metadata": {},
   "outputs": [],
   "source": [
    "filename = \"../models/ct_processor.pkl\"\n",
    "with open(filename, 'wb') as vectorizer_file:\n",
    "    pickle.dump(vectorizer, vectorizer_file)"
   ]
  },
  {
   "cell_type": "markdown",
   "id": "44850150",
   "metadata": {},
   "source": [
    "# SVM and Random Forest  and Gradient Boosting Algorithms\n"
   ]
  },
  {
   "cell_type": "code",
   "execution_count": 22,
   "id": "7497c850",
   "metadata": {},
   "outputs": [],
   "source": [
    "\n",
    "svm_param_grid = {\n",
    "    \"C\":[5,10,20],\n",
    "    \"kernel\":['linear']    \n",
    "}\n",
    "\n",
    "rf_param_grid = {\n",
    "    \"n_estimators\":[10,25,50],\n",
    "    \"max_depth\":[None],\n",
    "    \"min_samples_split\":[2,5,10],\n",
    "    \"min_samples_leaf\":[1,2,4]\n",
    "}\n",
    "\n",
    "\n",
    "xg_param_grid = {\n",
    "    'n_estimators': [10, 20, 30],\n",
    "    'learning_rate': [0.01, 0.1, 0.2],\n",
    "    'max_depth': [3, 4, 5],\n",
    "    'min_samples_split': [2, 5, 10],\n",
    "    'min_samples_leaf': [1, 2, 4]\n",
    "}"
   ]
  },
  {
   "cell_type": "code",
   "execution_count": 23,
   "id": "6dcf9674",
   "metadata": {},
   "outputs": [],
   "source": [
    "kf = KFold(n_splits=5, shuffle=True, random_state=101)\n",
    "\n",
    "svm_model = SVC(class_weight='balanced', probability=True)\n",
    "svm_grid_search = GridSearchCV(svm_model,param_grid=svm_param_grid, cv=kf, n_jobs=-1)\n",
    "\n",
    "\n",
    "rf_model = RandomForestClassifier(class_weight='balanced')\n",
    "rf_grid_search = GridSearchCV(rf_model, param_grid=rf_param_grid, cv=kf, n_jobs=-1)\n",
    "\n",
    "\n",
    "xg_model = GradientBoostingClassifier()\n",
    "xg_grid_search = GridSearchCV(xg_model, param_grid=xg_param_grid, cv=kf, n_jobs=-1, verbose=2)"
   ]
  },
  {
   "cell_type": "markdown",
   "id": "3b1898de",
   "metadata": {},
   "source": [
    "## Training of the Model using TFIDF Vectorizer"
   ]
  },
  {
   "cell_type": "code",
   "execution_count": 24,
   "id": "a60d287b",
   "metadata": {},
   "outputs": [
    {
     "name": "stdout",
     "output_type": "stream",
     "text": [
      "Fitting 5 folds for each of 243 candidates, totalling 1215 fits\n"
     ]
    },
    {
     "data": {
      "text/html": [
       "<style>#sk-container-id-1 {color: black;background-color: white;}#sk-container-id-1 pre{padding: 0;}#sk-container-id-1 div.sk-toggleable {background-color: white;}#sk-container-id-1 label.sk-toggleable__label {cursor: pointer;display: block;width: 100%;margin-bottom: 0;padding: 0.3em;box-sizing: border-box;text-align: center;}#sk-container-id-1 label.sk-toggleable__label-arrow:before {content: \"▸\";float: left;margin-right: 0.25em;color: #696969;}#sk-container-id-1 label.sk-toggleable__label-arrow:hover:before {color: black;}#sk-container-id-1 div.sk-estimator:hover label.sk-toggleable__label-arrow:before {color: black;}#sk-container-id-1 div.sk-toggleable__content {max-height: 0;max-width: 0;overflow: hidden;text-align: left;background-color: #f0f8ff;}#sk-container-id-1 div.sk-toggleable__content pre {margin: 0.2em;color: black;border-radius: 0.25em;background-color: #f0f8ff;}#sk-container-id-1 input.sk-toggleable__control:checked~div.sk-toggleable__content {max-height: 200px;max-width: 100%;overflow: auto;}#sk-container-id-1 input.sk-toggleable__control:checked~label.sk-toggleable__label-arrow:before {content: \"▾\";}#sk-container-id-1 div.sk-estimator input.sk-toggleable__control:checked~label.sk-toggleable__label {background-color: #d4ebff;}#sk-container-id-1 div.sk-label input.sk-toggleable__control:checked~label.sk-toggleable__label {background-color: #d4ebff;}#sk-container-id-1 input.sk-hidden--visually {border: 0;clip: rect(1px 1px 1px 1px);clip: rect(1px, 1px, 1px, 1px);height: 1px;margin: -1px;overflow: hidden;padding: 0;position: absolute;width: 1px;}#sk-container-id-1 div.sk-estimator {font-family: monospace;background-color: #f0f8ff;border: 1px dotted black;border-radius: 0.25em;box-sizing: border-box;margin-bottom: 0.5em;}#sk-container-id-1 div.sk-estimator:hover {background-color: #d4ebff;}#sk-container-id-1 div.sk-parallel-item::after {content: \"\";width: 100%;border-bottom: 1px solid gray;flex-grow: 1;}#sk-container-id-1 div.sk-label:hover label.sk-toggleable__label {background-color: #d4ebff;}#sk-container-id-1 div.sk-serial::before {content: \"\";position: absolute;border-left: 1px solid gray;box-sizing: border-box;top: 0;bottom: 0;left: 50%;z-index: 0;}#sk-container-id-1 div.sk-serial {display: flex;flex-direction: column;align-items: center;background-color: white;padding-right: 0.2em;padding-left: 0.2em;position: relative;}#sk-container-id-1 div.sk-item {position: relative;z-index: 1;}#sk-container-id-1 div.sk-parallel {display: flex;align-items: stretch;justify-content: center;background-color: white;position: relative;}#sk-container-id-1 div.sk-item::before, #sk-container-id-1 div.sk-parallel-item::before {content: \"\";position: absolute;border-left: 1px solid gray;box-sizing: border-box;top: 0;bottom: 0;left: 50%;z-index: -1;}#sk-container-id-1 div.sk-parallel-item {display: flex;flex-direction: column;z-index: 1;position: relative;background-color: white;}#sk-container-id-1 div.sk-parallel-item:first-child::after {align-self: flex-end;width: 50%;}#sk-container-id-1 div.sk-parallel-item:last-child::after {align-self: flex-start;width: 50%;}#sk-container-id-1 div.sk-parallel-item:only-child::after {width: 0;}#sk-container-id-1 div.sk-dashed-wrapped {border: 1px dashed gray;margin: 0 0.4em 0.5em 0.4em;box-sizing: border-box;padding-bottom: 0.4em;background-color: white;}#sk-container-id-1 div.sk-label label {font-family: monospace;font-weight: bold;display: inline-block;line-height: 1.2em;}#sk-container-id-1 div.sk-label-container {text-align: center;}#sk-container-id-1 div.sk-container {/* jupyter's `normalize.less` sets `[hidden] { display: none; }` but bootstrap.min.css set `[hidden] { display: none !important; }` so we also need the `!important` here to be able to override the default hidden behavior on the sphinx rendered scikit-learn.org. See: https://github.com/scikit-learn/scikit-learn/issues/21755 */display: inline-block !important;position: relative;}#sk-container-id-1 div.sk-text-repr-fallback {display: none;}</style><div id=\"sk-container-id-1\" class=\"sk-top-container\"><div class=\"sk-text-repr-fallback\"><pre>GridSearchCV(cv=KFold(n_splits=5, random_state=101, shuffle=True),\n",
       "             estimator=GradientBoostingClassifier(), n_jobs=-1,\n",
       "             param_grid={&#x27;learning_rate&#x27;: [0.01, 0.1, 0.2],\n",
       "                         &#x27;max_depth&#x27;: [3, 4, 5], &#x27;min_samples_leaf&#x27;: [1, 2, 4],\n",
       "                         &#x27;min_samples_split&#x27;: [2, 5, 10],\n",
       "                         &#x27;n_estimators&#x27;: [10, 20, 30]},\n",
       "             verbose=2)</pre><b>In a Jupyter environment, please rerun this cell to show the HTML representation or trust the notebook. <br />On GitHub, the HTML representation is unable to render, please try loading this page with nbviewer.org.</b></div><div class=\"sk-container\" hidden><div class=\"sk-item sk-dashed-wrapped\"><div class=\"sk-label-container\"><div class=\"sk-label sk-toggleable\"><input class=\"sk-toggleable__control sk-hidden--visually\" id=\"sk-estimator-id-1\" type=\"checkbox\" ><label for=\"sk-estimator-id-1\" class=\"sk-toggleable__label sk-toggleable__label-arrow\">GridSearchCV</label><div class=\"sk-toggleable__content\"><pre>GridSearchCV(cv=KFold(n_splits=5, random_state=101, shuffle=True),\n",
       "             estimator=GradientBoostingClassifier(), n_jobs=-1,\n",
       "             param_grid={&#x27;learning_rate&#x27;: [0.01, 0.1, 0.2],\n",
       "                         &#x27;max_depth&#x27;: [3, 4, 5], &#x27;min_samples_leaf&#x27;: [1, 2, 4],\n",
       "                         &#x27;min_samples_split&#x27;: [2, 5, 10],\n",
       "                         &#x27;n_estimators&#x27;: [10, 20, 30]},\n",
       "             verbose=2)</pre></div></div></div><div class=\"sk-parallel\"><div class=\"sk-parallel-item\"><div class=\"sk-item\"><div class=\"sk-label-container\"><div class=\"sk-label sk-toggleable\"><input class=\"sk-toggleable__control sk-hidden--visually\" id=\"sk-estimator-id-2\" type=\"checkbox\" ><label for=\"sk-estimator-id-2\" class=\"sk-toggleable__label sk-toggleable__label-arrow\">estimator: GradientBoostingClassifier</label><div class=\"sk-toggleable__content\"><pre>GradientBoostingClassifier()</pre></div></div></div><div class=\"sk-serial\"><div class=\"sk-item\"><div class=\"sk-estimator sk-toggleable\"><input class=\"sk-toggleable__control sk-hidden--visually\" id=\"sk-estimator-id-3\" type=\"checkbox\" ><label for=\"sk-estimator-id-3\" class=\"sk-toggleable__label sk-toggleable__label-arrow\">GradientBoostingClassifier</label><div class=\"sk-toggleable__content\"><pre>GradientBoostingClassifier()</pre></div></div></div></div></div></div></div></div></div></div>"
      ],
      "text/plain": [
       "GridSearchCV(cv=KFold(n_splits=5, random_state=101, shuffle=True),\n",
       "             estimator=GradientBoostingClassifier(), n_jobs=-1,\n",
       "             param_grid={'learning_rate': [0.01, 0.1, 0.2],\n",
       "                         'max_depth': [3, 4, 5], 'min_samples_leaf': [1, 2, 4],\n",
       "                         'min_samples_split': [2, 5, 10],\n",
       "                         'n_estimators': [10, 20, 30]},\n",
       "             verbose=2)"
      ]
     },
     "execution_count": 24,
     "metadata": {},
     "output_type": "execute_result"
    }
   ],
   "source": [
    "svm_grid_search.fit(X_train_tfidf,y_train)  \n",
    "rf_grid_search.fit(X_train_tfidf,y_train)\n",
    "xg_grid_search.fit(X_train_tfidf,y_train)"
   ]
  },
  {
   "cell_type": "code",
   "execution_count": 25,
   "id": "9c1baad0",
   "metadata": {},
   "outputs": [],
   "source": [
    "svm_best_model_tfidf = svm_grid_search.best_estimator_\n",
    "rf_best_model_tfidf = rf_grid_search.best_estimator_\n",
    "xg_best_model_tfidf = xg_grid_search.best_estimator_"
   ]
  },
  {
   "cell_type": "markdown",
   "id": "20b70bad",
   "metadata": {},
   "source": [
    "## Training of the Model using Count Vectorizer"
   ]
  },
  {
   "cell_type": "code",
   "execution_count": 50,
   "id": "adceda56",
   "metadata": {},
   "outputs": [
    {
     "name": "stdout",
     "output_type": "stream",
     "text": [
      "Fitting 5 folds for each of 243 candidates, totalling 1215 fits\n"
     ]
    },
    {
     "data": {
      "text/html": [
       "<style>#sk-container-id-2 {color: black;background-color: white;}#sk-container-id-2 pre{padding: 0;}#sk-container-id-2 div.sk-toggleable {background-color: white;}#sk-container-id-2 label.sk-toggleable__label {cursor: pointer;display: block;width: 100%;margin-bottom: 0;padding: 0.3em;box-sizing: border-box;text-align: center;}#sk-container-id-2 label.sk-toggleable__label-arrow:before {content: \"▸\";float: left;margin-right: 0.25em;color: #696969;}#sk-container-id-2 label.sk-toggleable__label-arrow:hover:before {color: black;}#sk-container-id-2 div.sk-estimator:hover label.sk-toggleable__label-arrow:before {color: black;}#sk-container-id-2 div.sk-toggleable__content {max-height: 0;max-width: 0;overflow: hidden;text-align: left;background-color: #f0f8ff;}#sk-container-id-2 div.sk-toggleable__content pre {margin: 0.2em;color: black;border-radius: 0.25em;background-color: #f0f8ff;}#sk-container-id-2 input.sk-toggleable__control:checked~div.sk-toggleable__content {max-height: 200px;max-width: 100%;overflow: auto;}#sk-container-id-2 input.sk-toggleable__control:checked~label.sk-toggleable__label-arrow:before {content: \"▾\";}#sk-container-id-2 div.sk-estimator input.sk-toggleable__control:checked~label.sk-toggleable__label {background-color: #d4ebff;}#sk-container-id-2 div.sk-label input.sk-toggleable__control:checked~label.sk-toggleable__label {background-color: #d4ebff;}#sk-container-id-2 input.sk-hidden--visually {border: 0;clip: rect(1px 1px 1px 1px);clip: rect(1px, 1px, 1px, 1px);height: 1px;margin: -1px;overflow: hidden;padding: 0;position: absolute;width: 1px;}#sk-container-id-2 div.sk-estimator {font-family: monospace;background-color: #f0f8ff;border: 1px dotted black;border-radius: 0.25em;box-sizing: border-box;margin-bottom: 0.5em;}#sk-container-id-2 div.sk-estimator:hover {background-color: #d4ebff;}#sk-container-id-2 div.sk-parallel-item::after {content: \"\";width: 100%;border-bottom: 1px solid gray;flex-grow: 1;}#sk-container-id-2 div.sk-label:hover label.sk-toggleable__label {background-color: #d4ebff;}#sk-container-id-2 div.sk-serial::before {content: \"\";position: absolute;border-left: 1px solid gray;box-sizing: border-box;top: 0;bottom: 0;left: 50%;z-index: 0;}#sk-container-id-2 div.sk-serial {display: flex;flex-direction: column;align-items: center;background-color: white;padding-right: 0.2em;padding-left: 0.2em;position: relative;}#sk-container-id-2 div.sk-item {position: relative;z-index: 1;}#sk-container-id-2 div.sk-parallel {display: flex;align-items: stretch;justify-content: center;background-color: white;position: relative;}#sk-container-id-2 div.sk-item::before, #sk-container-id-2 div.sk-parallel-item::before {content: \"\";position: absolute;border-left: 1px solid gray;box-sizing: border-box;top: 0;bottom: 0;left: 50%;z-index: -1;}#sk-container-id-2 div.sk-parallel-item {display: flex;flex-direction: column;z-index: 1;position: relative;background-color: white;}#sk-container-id-2 div.sk-parallel-item:first-child::after {align-self: flex-end;width: 50%;}#sk-container-id-2 div.sk-parallel-item:last-child::after {align-self: flex-start;width: 50%;}#sk-container-id-2 div.sk-parallel-item:only-child::after {width: 0;}#sk-container-id-2 div.sk-dashed-wrapped {border: 1px dashed gray;margin: 0 0.4em 0.5em 0.4em;box-sizing: border-box;padding-bottom: 0.4em;background-color: white;}#sk-container-id-2 div.sk-label label {font-family: monospace;font-weight: bold;display: inline-block;line-height: 1.2em;}#sk-container-id-2 div.sk-label-container {text-align: center;}#sk-container-id-2 div.sk-container {/* jupyter's `normalize.less` sets `[hidden] { display: none; }` but bootstrap.min.css set `[hidden] { display: none !important; }` so we also need the `!important` here to be able to override the default hidden behavior on the sphinx rendered scikit-learn.org. See: https://github.com/scikit-learn/scikit-learn/issues/21755 */display: inline-block !important;position: relative;}#sk-container-id-2 div.sk-text-repr-fallback {display: none;}</style><div id=\"sk-container-id-2\" class=\"sk-top-container\"><div class=\"sk-text-repr-fallback\"><pre>GridSearchCV(cv=KFold(n_splits=5, random_state=101, shuffle=True),\n",
       "             estimator=GradientBoostingClassifier(), n_jobs=-1,\n",
       "             param_grid={&#x27;learning_rate&#x27;: [0.01, 0.1, 0.2],\n",
       "                         &#x27;max_depth&#x27;: [3, 4, 5], &#x27;min_samples_leaf&#x27;: [1, 2, 4],\n",
       "                         &#x27;min_samples_split&#x27;: [2, 5, 10],\n",
       "                         &#x27;n_estimators&#x27;: [10, 20, 30]},\n",
       "             verbose=2)</pre><b>In a Jupyter environment, please rerun this cell to show the HTML representation or trust the notebook. <br />On GitHub, the HTML representation is unable to render, please try loading this page with nbviewer.org.</b></div><div class=\"sk-container\" hidden><div class=\"sk-item sk-dashed-wrapped\"><div class=\"sk-label-container\"><div class=\"sk-label sk-toggleable\"><input class=\"sk-toggleable__control sk-hidden--visually\" id=\"sk-estimator-id-4\" type=\"checkbox\" ><label for=\"sk-estimator-id-4\" class=\"sk-toggleable__label sk-toggleable__label-arrow\">GridSearchCV</label><div class=\"sk-toggleable__content\"><pre>GridSearchCV(cv=KFold(n_splits=5, random_state=101, shuffle=True),\n",
       "             estimator=GradientBoostingClassifier(), n_jobs=-1,\n",
       "             param_grid={&#x27;learning_rate&#x27;: [0.01, 0.1, 0.2],\n",
       "                         &#x27;max_depth&#x27;: [3, 4, 5], &#x27;min_samples_leaf&#x27;: [1, 2, 4],\n",
       "                         &#x27;min_samples_split&#x27;: [2, 5, 10],\n",
       "                         &#x27;n_estimators&#x27;: [10, 20, 30]},\n",
       "             verbose=2)</pre></div></div></div><div class=\"sk-parallel\"><div class=\"sk-parallel-item\"><div class=\"sk-item\"><div class=\"sk-label-container\"><div class=\"sk-label sk-toggleable\"><input class=\"sk-toggleable__control sk-hidden--visually\" id=\"sk-estimator-id-5\" type=\"checkbox\" ><label for=\"sk-estimator-id-5\" class=\"sk-toggleable__label sk-toggleable__label-arrow\">estimator: GradientBoostingClassifier</label><div class=\"sk-toggleable__content\"><pre>GradientBoostingClassifier()</pre></div></div></div><div class=\"sk-serial\"><div class=\"sk-item\"><div class=\"sk-estimator sk-toggleable\"><input class=\"sk-toggleable__control sk-hidden--visually\" id=\"sk-estimator-id-6\" type=\"checkbox\" ><label for=\"sk-estimator-id-6\" class=\"sk-toggleable__label sk-toggleable__label-arrow\">GradientBoostingClassifier</label><div class=\"sk-toggleable__content\"><pre>GradientBoostingClassifier()</pre></div></div></div></div></div></div></div></div></div></div>"
      ],
      "text/plain": [
       "GridSearchCV(cv=KFold(n_splits=5, random_state=101, shuffle=True),\n",
       "             estimator=GradientBoostingClassifier(), n_jobs=-1,\n",
       "             param_grid={'learning_rate': [0.01, 0.1, 0.2],\n",
       "                         'max_depth': [3, 4, 5], 'min_samples_leaf': [1, 2, 4],\n",
       "                         'min_samples_split': [2, 5, 10],\n",
       "                         'n_estimators': [10, 20, 30]},\n",
       "             verbose=2)"
      ]
     },
     "execution_count": 50,
     "metadata": {},
     "output_type": "execute_result"
    }
   ],
   "source": [
    "svm_grid_search.fit(X_train_count,y_train)  \n",
    "rf_grid_search.fit(X_train_count,y_train)\n",
    "xg_grid_search.fit(X_train_count,y_train) "
   ]
  },
  {
   "cell_type": "code",
   "execution_count": 51,
   "id": "0373e624",
   "metadata": {},
   "outputs": [],
   "source": [
    "svm_best_model_count = svm_grid_search.best_estimator_\n",
    "rf_best_model_count = rf_grid_search.best_estimator_\n",
    "xg_best_model_count = xg_grid_search.best_estimator_"
   ]
  },
  {
   "cell_type": "code",
   "execution_count": 52,
   "id": "80f0fee5",
   "metadata": {},
   "outputs": [],
   "source": [
    "filename = \"../models/svm_best_model_tfidf.pkl\"\n",
    "with open(filename, 'wb') as model_file:\n",
    "    pickle.dump(svm_best_model_tfidf, model_file)\n",
    "    \n",
    "filename = \"../models/rf_best_model_tfidf.pkl\"\n",
    "with open(filename, 'wb') as model_file:\n",
    "    pickle.dump(rf_best_model_tfidf, model_file)\n",
    "\n",
    "filename = \"../models/xg_best_model_tfidf.pkl\"\n",
    "with open(filename, 'wb') as model_file:\n",
    "    pickle.dump(xg_best_model_tfidf, model_file) \n",
    "    \n",
    "filename = \"../models/svm_best_model_count.pkl\"\n",
    "with open(filename, 'wb') as model_file:\n",
    "    pickle.dump(svm_best_model_count, model_file)\n",
    "\n",
    "filename = \"../models/rf_best_model_count.pkl\"\n",
    "with open(filename, 'wb') as model_file:\n",
    "    pickle.dump(rf_best_model_count, model_file)\n",
    "    \n",
    "filename = \"../models/xg_best_model_count.pkl\"\n",
    "with open(filename, 'wb') as model_file:\n",
    "    pickle.dump(xg_best_model_count, model_file)\n",
    "         "
   ]
  },
  {
   "cell_type": "markdown",
   "id": "ef7f7b83",
   "metadata": {},
   "source": [
    "## TFIDF Ensembles"
   ]
  },
  {
   "cell_type": "code",
   "execution_count": 41,
   "id": "20b1864f",
   "metadata": {},
   "outputs": [],
   "source": [
    "def create_ensemble1(X):\n",
    "    svm_preds= svm_best_model_tfidf.predict(X)\n",
    "    rf_preds= rf_best_model_tfidf.predict(X)\n",
    "    ensemble_preds= [1 if (svm_pred + rf_pred) >= 1 \n",
    "                     else 0 for svm_pred, rf_pred in zip(svm_preds, rf_preds)]\n",
    "    return ensemble_preds"
   ]
  },
  {
   "cell_type": "code",
   "execution_count": 42,
   "id": "3fee1150",
   "metadata": {},
   "outputs": [],
   "source": [
    "def create_ensemble2(X):\n",
    "    svm_preds= svm_best_model_tfidf.predict(X)\n",
    "    xg_preds= xg_best_model_tfidf.predict(X)\n",
    "    ensemble_preds= [1 if (svm_pred + xg_pred) >= 1 \n",
    "                     else 0 for svm_pred, xg_pred in zip(svm_preds, xg_preds)]\n",
    "    return ensemble_preds"
   ]
  },
  {
   "cell_type": "code",
   "execution_count": 43,
   "id": "8d5b41d5",
   "metadata": {},
   "outputs": [],
   "source": [
    "def create_ensemble3(X):\n",
    "    xg_preds= xg_best_model_tfidf.predict(X)\n",
    "    rf_preds= rf_best_model_tfidf.predict(X)\n",
    "    ensemble_preds= [1 if (xg_pred + rf_pred) >= 1 \n",
    "                     else 0 for xg_pred, rf_pred in zip(xg_preds, rf_preds)]\n",
    "    return ensemble_preds"
   ]
  },
  {
   "cell_type": "code",
   "execution_count": 60,
   "id": "bb15bc7e",
   "metadata": {},
   "outputs": [
    {
     "name": "stdout",
     "output_type": "stream",
     "text": [
      "              precision    recall  f1-score   support\n",
      "\n",
      "           0       0.98      0.97      0.98      3752\n",
      "           1       0.99      0.99      0.99     11737\n",
      "\n",
      "    accuracy                           0.99     15489\n",
      "   macro avg       0.99      0.98      0.99     15489\n",
      "weighted avg       0.99      0.99      0.99     15489\n",
      "\n"
     ]
    }
   ],
   "source": [
    "ensemble_training_pred1 = create_ensemble1(X_train_tfidf)\n",
    "print(classification_report(y_train,ensemble_training_pred1))"
   ]
  },
  {
   "cell_type": "code",
   "execution_count": 61,
   "id": "61472a49",
   "metadata": {},
   "outputs": [
    {
     "data": {
      "image/png": "[encoded data removed]",
      "text/plain": [
       "<Figure size 640x480 with 2 Axes>"
      ]
     },
     "metadata": {},
     "output_type": "display_data"
    }
   ],
   "source": [
    "con_matrix = confusion_matrix(y_train,ensemble_training_pred1)\n",
    "ax = sns.heatmap(con_matrix, annot=True, fmt=\"d\", cmap=\"Greens\")"
   ]
  },
  {
   "cell_type": "code",
   "execution_count": 62,
   "id": "87475dba",
   "metadata": {},
   "outputs": [
    {
     "name": "stdout",
     "output_type": "stream",
     "text": [
      "              precision    recall  f1-score   support\n",
      "\n",
      "           0       0.93      0.36      0.52      3752\n",
      "           1       0.83      0.99      0.90     11737\n",
      "\n",
      "    accuracy                           0.84     15489\n",
      "   macro avg       0.88      0.68      0.71     15489\n",
      "weighted avg       0.85      0.84      0.81     15489\n",
      "\n"
     ]
    }
   ],
   "source": [
    "ensemble_training_pred2 = create_ensemble2(X_train_tfidf)\n",
    "print(classification_report(y_train,ensemble_training_pred2))"
   ]
  },
  {
   "cell_type": "code",
   "execution_count": 66,
   "id": "11660713",
   "metadata": {},
   "outputs": [
    {
     "data": {
      "image/png": "[encoded data removed]",
      "text/plain": [
       "<Figure size 640x480 with 2 Axes>"
      ]
     },
     "metadata": {},
     "output_type": "display_data"
    }
   ],
   "source": [
    "con_matrix = confusion_matrix(y_train,ensemble_training_pred2)\n",
    "ax = sns.heatmap(con_matrix, annot=True, fmt=\"d\", cmap=\"Oranges\")"
   ]
  },
  {
   "cell_type": "code",
   "execution_count": 67,
   "id": "39daca81",
   "metadata": {},
   "outputs": [
    {
     "name": "stdout",
     "output_type": "stream",
     "text": [
      "              precision    recall  f1-score   support\n",
      "\n",
      "           0       0.99      0.36      0.53      3752\n",
      "           1       0.83      1.00      0.91     11737\n",
      "\n",
      "    accuracy                           0.84     15489\n",
      "   macro avg       0.91      0.68      0.72     15489\n",
      "weighted avg       0.87      0.84      0.82     15489\n",
      "\n"
     ]
    }
   ],
   "source": [
    "ensemble_training_pred3 = create_ensemble3(X_train_tfidf)\n",
    "print(classification_report(y_train,ensemble_training_pred3))"
   ]
  },
  {
   "cell_type": "code",
   "execution_count": 68,
   "id": "124f6681",
   "metadata": {},
   "outputs": [
    {
     "data": {
      "image/png": "[encoded data removed]",
      "text/plain": [
       "<Figure size 640x480 with 2 Axes>"
      ]
     },
     "metadata": {},
     "output_type": "display_data"
    }
   ],
   "source": [
    "con_matrix = confusion_matrix(y_train,ensemble_training_pred3)\n",
    "ax = sns.heatmap(con_matrix, annot=True, fmt=\"d\", cmap=\"Blues\")"
   ]
  },
  {
   "cell_type": "markdown",
   "id": "fe28c915",
   "metadata": {},
   "source": [
    "## Count Ensembles"
   ]
  },
  {
   "cell_type": "code",
   "execution_count": 53,
   "id": "4727b920",
   "metadata": {},
   "outputs": [],
   "source": [
    "def create_ensemble4(X):\n",
    "    svm_preds= svm_best_model_count.predict(X)\n",
    "    rf_preds= rf_best_model_count.predict(X)\n",
    "    ensemble_preds= [1 if (svm_pred + rf_pred) >= 1 \n",
    "                     else 0 for svm_pred, rf_pred in zip(svm_preds, rf_preds)]\n",
    "    return ensemble_preds"
   ]
  },
  {
   "cell_type": "code",
   "execution_count": 54,
   "id": "aa6641b6",
   "metadata": {},
   "outputs": [],
   "source": [
    "def create_ensemble5(X):\n",
    "    svm_preds= svm_best_model_count.predict(X)\n",
    "    xg_preds= xg_best_model_count.predict(X)\n",
    "    ensemble_preds= [1 if (svm_pred + xg_pred) >= 1 \n",
    "                     else 0 for svm_pred, xg_pred in zip(svm_preds, xg_preds)]\n",
    "    return ensemble_preds"
   ]
  },
  {
   "cell_type": "code",
   "execution_count": 55,
   "id": "a7ceb5b3",
   "metadata": {},
   "outputs": [],
   "source": [
    "def create_ensemble6(X):\n",
    "    xg_preds= xg_best_model_count.predict(X)\n",
    "    rf_preds= rf_best_model_count.predict(X)\n",
    "    ensemble_preds= [1 if (xg_pred + rf_pred) >= 1 \n",
    "                     else 0 for xg_pred, rf_pred in zip(xg_preds, rf_preds)]\n",
    "    return ensemble_preds"
   ]
  },
  {
   "cell_type": "code",
   "execution_count": 69,
   "id": "16b04fa2",
   "metadata": {},
   "outputs": [
    {
     "name": "stdout",
     "output_type": "stream",
     "text": [
      "              precision    recall  f1-score   support\n",
      "\n",
      "           0       0.98      0.98      0.98      3752\n",
      "           1       0.99      0.99      0.99     11737\n",
      "\n",
      "    accuracy                           0.99     15489\n",
      "   macro avg       0.99      0.99      0.99     15489\n",
      "weighted avg       0.99      0.99      0.99     15489\n",
      "\n"
     ]
    }
   ],
   "source": [
    "ensemble_training_pred4 = create_ensemble4(X_train_count)\n",
    "print(classification_report(y_train,ensemble_training_pred4))"
   ]
  },
  {
   "cell_type": "code",
   "execution_count": 71,
   "id": "fb5846a4",
   "metadata": {},
   "outputs": [
    {
     "data": {
      "image/png": "[encoded data removed]",
      "text/plain": [
       "<Figure size 640x480 with 2 Axes>"
      ]
     },
     "metadata": {},
     "output_type": "display_data"
    }
   ],
   "source": [
    "con_matrix = confusion_matrix(y_train,ensemble_training_pred4)\n",
    "ax = sns.heatmap(con_matrix, annot=True, fmt=\"d\", cmap=\"Reds\")"
   ]
  },
  {
   "cell_type": "code",
   "execution_count": 72,
   "id": "18a4a118",
   "metadata": {},
   "outputs": [
    {
     "name": "stdout",
     "output_type": "stream",
     "text": [
      "              precision    recall  f1-score   support\n",
      "\n",
      "           0       0.94      0.35      0.51      3752\n",
      "           1       0.83      0.99      0.90     11737\n",
      "\n",
      "    accuracy                           0.84     15489\n",
      "   macro avg       0.88      0.67      0.71     15489\n",
      "weighted avg       0.85      0.84      0.81     15489\n",
      "\n"
     ]
    }
   ],
   "source": [
    "ensemble_training_pred5 = create_ensemble5(X_train_count)\n",
    "print(classification_report(y_train,ensemble_training_pred5))"
   ]
  },
  {
   "cell_type": "code",
   "execution_count": 74,
   "id": "78fd181d",
   "metadata": {},
   "outputs": [
    {
     "data": {
      "image/png": "[encoded data removed]",
      "text/plain": [
       "<Figure size 640x480 with 2 Axes>"
      ]
     },
     "metadata": {},
     "output_type": "display_data"
    }
   ],
   "source": [
    "con_matrix = confusion_matrix(y_train,ensemble_training_pred5)\n",
    "ax = sns.heatmap(con_matrix, annot=True, fmt=\"d\", cmap=\"Purples\")"
   ]
  },
  {
   "cell_type": "code",
   "execution_count": 75,
   "id": "5f5ab288",
   "metadata": {},
   "outputs": [
    {
     "name": "stdout",
     "output_type": "stream",
     "text": [
      "              precision    recall  f1-score   support\n",
      "\n",
      "           0       0.99      0.35      0.52      3752\n",
      "           1       0.83      1.00      0.91     11737\n",
      "\n",
      "    accuracy                           0.84     15489\n",
      "   macro avg       0.91      0.68      0.71     15489\n",
      "weighted avg       0.87      0.84      0.81     15489\n",
      "\n"
     ]
    }
   ],
   "source": [
    "ensemble_training_pred6 = create_ensemble6(X_train_count)\n",
    "print(classification_report(y_train,ensemble_training_pred6))"
   ]
  },
  {
   "cell_type": "code",
   "execution_count": 77,
   "id": "5eaaf7a8",
   "metadata": {},
   "outputs": [
    {
     "data": {
      "image/png": "[encoded data removed]",
      "text/plain": [
       "<Figure size 640x480 with 2 Axes>"
      ]
     },
     "metadata": {},
     "output_type": "display_data"
    }
   ],
   "source": [
    "con_matrix = confusion_matrix(y_train,ensemble_training_pred6)\n",
    "ax = sns.heatmap(con_matrix, annot=True, fmt=\"d\", cmap=\"Greys\")"
   ]
  },
  {
   "cell_type": "markdown",
   "id": "9b995847",
   "metadata": {},
   "source": [
    "Given the above information the model that is showing to be best model so far is the first ensemble with the SVM and Random Forest classifications with Count vectorizer. "
   ]
  },
  {
   "cell_type": "code",
   "execution_count": 83,
   "id": "043db7a8",
   "metadata": {
    "scrolled": true
   },
   "outputs": [
    {
     "data": {
      "text/html": [
       "<div>\n",
       "<style scoped>\n",
       "    .dataframe tbody tr th:only-of-type {\n",
       "        vertical-align: middle;\n",
       "    }\n",
       "\n",
       "    .dataframe tbody tr th {\n",
       "        vertical-align: top;\n",
       "    }\n",
       "\n",
       "    .dataframe thead th {\n",
       "        text-align: right;\n",
       "    }\n",
       "</style>\n",
       "<table border=\"1\" class=\"dataframe\">\n",
       "  <thead>\n",
       "    <tr style=\"text-align: right;\">\n",
       "      <th></th>\n",
       "      <th>precision</th>\n",
       "      <th>recall</th>\n",
       "      <th>f1-score</th>\n",
       "      <th>support</th>\n",
       "    </tr>\n",
       "  </thead>\n",
       "  <tbody>\n",
       "    <tr>\n",
       "      <th>Fake</th>\n",
       "      <td>0.982433</td>\n",
       "      <td>0.983742</td>\n",
       "      <td>0.983087</td>\n",
       "      <td>3752.000000</td>\n",
       "    </tr>\n",
       "    <tr>\n",
       "      <th>Real</th>\n",
       "      <td>0.994801</td>\n",
       "      <td>0.994377</td>\n",
       "      <td>0.994589</td>\n",
       "      <td>11737.000000</td>\n",
       "    </tr>\n",
       "    <tr>\n",
       "      <th>accuracy</th>\n",
       "      <td>0.991801</td>\n",
       "      <td>0.991801</td>\n",
       "      <td>0.991801</td>\n",
       "      <td>0.991801</td>\n",
       "    </tr>\n",
       "    <tr>\n",
       "      <th>macro avg</th>\n",
       "      <td>0.988617</td>\n",
       "      <td>0.989059</td>\n",
       "      <td>0.988838</td>\n",
       "      <td>15489.000000</td>\n",
       "    </tr>\n",
       "    <tr>\n",
       "      <th>weighted avg</th>\n",
       "      <td>0.991805</td>\n",
       "      <td>0.991801</td>\n",
       "      <td>0.991802</td>\n",
       "      <td>15489.000000</td>\n",
       "    </tr>\n",
       "  </tbody>\n",
       "</table>\n",
       "</div>"
      ],
      "text/plain": [
       "              precision    recall  f1-score       support\n",
       "Fake           0.982433  0.983742  0.983087   3752.000000\n",
       "Real           0.994801  0.994377  0.994589  11737.000000\n",
       "accuracy       0.991801  0.991801  0.991801      0.991801\n",
       "macro avg      0.988617  0.989059  0.988838  15489.000000\n",
       "weighted avg   0.991805  0.991801  0.991802  15489.000000"
      ]
     },
     "execution_count": 83,
     "metadata": {},
     "output_type": "execute_result"
    }
   ],
   "source": [
    "training_report = classification_report(y_train,ensemble_training_pred4,target_names=['Fake', 'Real'],output_dict=True)\n",
    "report_data = pd.DataFrame(training_report).transpose()\n",
    "report_data"
   ]
  },
  {
   "cell_type": "code",
   "execution_count": 84,
   "id": "2144b617",
   "metadata": {},
   "outputs": [],
   "source": [
    "class_metrics = report_data.iloc[:-3, :-1]\n",
    "class_names = class_metrics.index\n",
    "metrics = ['precision', 'recall', 'f1-score']\n",
    "\n",
    "x = np.arange(len(class_names))"
   ]
  },
  {
   "cell_type": "code",
   "execution_count": 85,
   "id": "6b4f4538",
   "metadata": {},
   "outputs": [
    {
     "data": {
      "image/png": "[encoded data removed]",
      "text/plain": [
       "<Figure size 1500x1000 with 1 Axes>"
      ]
     },
     "metadata": {},
     "output_type": "display_data"
    }
   ],
   "source": [
    "ax = plt.figure(figsize=(15, 10))\n",
    "for item, metric in enumerate(metrics):\n",
    "    plt.bar(x + (item +1) * 0.2, class_metrics[metric], width=0.20, label=metric)\n",
    "    for i, value in enumerate(class_metrics[metric]):\n",
    "        plt.annotate(f\"{value:.2f}\", (x[i] + (item + 1) * 0.20, value + 0.02), ha='center')\n",
    "    \n",
    "plt.title('Classification Metrics by Class')\n",
    "plt.ylim(0, 1.1)\n",
    "plt.legend()\n",
    "plt.xticks(x, class_names, rotation=45)\n",
    "plt.tight_layout()\n",
    "plt.savefig('../static/images/classification_graph.jpg', dpi=300)\n",
    "plt.show()"
   ]
  },
  {
   "cell_type": "code",
   "execution_count": 87,
   "id": "19a9d240",
   "metadata": {},
   "outputs": [],
   "source": [
    "training_predictions = pd.DataFrame({'Predictions': ensemble_training_pred4})"
   ]
  },
  {
   "cell_type": "code",
   "execution_count": 88,
   "id": "93b3bc9e",
   "metadata": {},
   "outputs": [],
   "source": [
    "training_predictions.to_excel(\"../results/training_prediction.xlsx\", index=False)"
   ]
  }
 ],
 "metadata": {
  "kernelspec": {
   "display_name": "Python 3 (ipykernel)",
   "language": "python",
   "name": "python3"
  },
  "language_info": {
   "codemirror_mode": {
    "name": "ipython",
    "version": 3
   },
   "file_extension": ".py",
   "mimetype": "text/x-python",
   "name": "python",
   "nbconvert_exporter": "python",
   "pygments_lexer": "ipython3",
   "version": "3.9.13"
  }
 },
 "nbformat": 4,
 "nbformat_minor": 5
}
